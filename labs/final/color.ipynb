{
 "cells": [
  {
   "cell_type": "code",
   "execution_count": 6,
   "source": [
    "from cv2 import cv2\r\n",
    "import imutils\r\n",
    "import numpy as np\r\n",
    "\r\n",
    "image_hsv = None\r\n",
    "pixel = (20,60,80)\r\n",
    "\r\n",
    "def pick_color(event,x,y,flags,param):\r\n",
    "    if event == cv2.EVENT_LBUTTONDOWN:\r\n",
    "        pixel = image_hsv[y,x]\r\n",
    "\r\n",
    "        upper =  np.array([pixel[0] + 10, pixel[1] + 10, pixel[2] + 40])\r\n",
    "        lower =  np.array([pixel[0] - 10, pixel[1] - 10, pixel[2] - 40])\r\n",
    "        print(pixel, lower, upper)\r\n",
    "\r\n",
    "        image_mask = cv2.inRange(image_hsv,lower,upper)\r\n",
    "        cv2.imshow(\"mask\",image_mask)\r\n",
    "\r\n",
    "def main():\r\n",
    "    import sys\r\n",
    "    global image_hsv, pixel \r\n",
    "\r\n",
    "    image_src = cv2.imread('C:/Users/Tony/Desktop/red_cone.png')\r\n",
    "    if image_src is None:\r\n",
    "        print (\"the image read is None............\")\r\n",
    "        return\r\n",
    "    cv2.imshow(\"bgr\",image_src)\r\n",
    "\r\n",
    "    cv2.namedWindow('hsv')\r\n",
    "    cv2.setMouseCallback('hsv', pick_color)\r\n",
    "\r\n",
    "    image_hsv = cv2.cvtColor(image_src,cv2.COLOR_BGR2HSV)\r\n",
    "    cv2.imshow(\"hsv\",image_hsv)\r\n",
    "\r\n",
    "    cv2.waitKey(0)\r\n",
    "    cv2.destroyAllWindows()\r\n",
    "\r\n",
    "# if name == 'main':\r\n",
    "#     main()"
   ],
   "outputs": [],
   "metadata": {}
  }
 ],
 "metadata": {
  "orig_nbformat": 4,
  "language_info": {
   "name": "python",
   "version": "3.7.6",
   "mimetype": "text/x-python",
   "codemirror_mode": {
    "name": "ipython",
    "version": 3
   },
   "pygments_lexer": "ipython3",
   "nbconvert_exporter": "python",
   "file_extension": ".py"
  },
  "kernelspec": {
   "name": "python3",
   "display_name": "Python 3.7.6 64-bit ('base': conda)"
  },
  "interpreter": {
   "hash": "3a2ebba3f4b8899c14893ae65f6ad13f8b71e2771a5674e6b86a5f718dfe1f2f"
  }
 },
 "nbformat": 4,
 "nbformat_minor": 2
}